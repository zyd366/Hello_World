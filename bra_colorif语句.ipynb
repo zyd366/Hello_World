{
 "cells": [
  {
   "cell_type": "code",
   "execution_count": 134,
   "metadata": {
    "collapsed": true
   },
   "outputs": [
    {
     "data": {
      "text/html": [
       "<div>\n",
       "<style scoped>\n",
       "    .dataframe tbody tr th:only-of-type {\n",
       "        vertical-align: middle;\n",
       "    }\n",
       "\n",
       "    .dataframe tbody tr th {\n",
       "        vertical-align: top;\n",
       "    }\n",
       "\n",
       "    .dataframe thead th {\n",
       "        text-align: right;\n",
       "    }\n",
       "</style>\n",
       "<table border=\"1\" class=\"dataframe\">\n",
       "  <thead>\n",
       "    <tr style=\"text-align: right;\">\n",
       "      <th></th>\n",
       "      <th>creationTime</th>\n",
       "      <th>productColor</th>\n",
       "      <th>productSize</th>\n",
       "      <th>Unnamed: 0</th>\n",
       "      <th>color</th>\n",
       "    </tr>\n",
       "  </thead>\n",
       "  <tbody>\n",
       "    <tr>\n",
       "      <th>0</th>\n",
       "      <td>2016-06-08 17:17:00</td>\n",
       "      <td>22咖啡色</td>\n",
       "      <td>75C</td>\n",
       "      <td>0</td>\n",
       "      <td>棕色</td>\n",
       "    </tr>\n",
       "    <tr>\n",
       "      <th>1</th>\n",
       "      <td>2017-04-07 19:34:25</td>\n",
       "      <td>22咖啡色</td>\n",
       "      <td>80B</td>\n",
       "      <td>0</td>\n",
       "      <td>棕色</td>\n",
       "    </tr>\n",
       "    <tr>\n",
       "      <th>2</th>\n",
       "      <td>2017-08-03 20:39:18</td>\n",
       "      <td>22咖啡色</td>\n",
       "      <td>80B</td>\n",
       "      <td>0</td>\n",
       "      <td>棕色</td>\n",
       "    </tr>\n",
       "    <tr>\n",
       "      <th>3</th>\n",
       "      <td>2016-07-06 14:02:08</td>\n",
       "      <td>22咖啡色</td>\n",
       "      <td>75B</td>\n",
       "      <td>0</td>\n",
       "      <td>棕色</td>\n",
       "    </tr>\n",
       "    <tr>\n",
       "      <th>4</th>\n",
       "      <td>2017-03-18 11:49:55</td>\n",
       "      <td>22咖啡色</td>\n",
       "      <td>80B</td>\n",
       "      <td>0</td>\n",
       "      <td>棕色</td>\n",
       "    </tr>\n",
       "    <tr>\n",
       "      <th>...</th>\n",
       "      <td>...</td>\n",
       "      <td>...</td>\n",
       "      <td>...</td>\n",
       "      <td>...</td>\n",
       "      <td>...</td>\n",
       "    </tr>\n",
       "    <tr>\n",
       "      <th>15492</th>\n",
       "      <td>2017-11-03 16:39:13</td>\n",
       "      <td>粉色套装（含内裤）</td>\n",
       "      <td>34A/75A</td>\n",
       "      <td>116</td>\n",
       "      <td>粉色</td>\n",
       "    </tr>\n",
       "    <tr>\n",
       "      <th>15493</th>\n",
       "      <td>2017-11-07 23:03:10</td>\n",
       "      <td>粉色套装（含内裤）</td>\n",
       "      <td>34B/75B</td>\n",
       "      <td>116</td>\n",
       "      <td>粉色</td>\n",
       "    </tr>\n",
       "    <tr>\n",
       "      <th>15494</th>\n",
       "      <td>2017-11-14 17:25:37</td>\n",
       "      <td>粉色套装（含内裤）</td>\n",
       "      <td>34A/75A</td>\n",
       "      <td>116</td>\n",
       "      <td>粉色</td>\n",
       "    </tr>\n",
       "    <tr>\n",
       "      <th>15495</th>\n",
       "      <td>2017-11-11 00:13:32</td>\n",
       "      <td>粉色套装（含内裤）</td>\n",
       "      <td>36C/80C</td>\n",
       "      <td>116</td>\n",
       "      <td>粉色</td>\n",
       "    </tr>\n",
       "    <tr>\n",
       "      <th>15496</th>\n",
       "      <td>2016-12-20 13:51:34</td>\n",
       "      <td>虾粉</td>\n",
       "      <td>34B=75B</td>\n",
       "      <td>117</td>\n",
       "      <td>粉色</td>\n",
       "    </tr>\n",
       "  </tbody>\n",
       "</table>\n",
       "<p>15496 rows × 5 columns</p>\n",
       "</div>"
      ],
      "text/plain": [
       "              creationTime productColor productSize  Unnamed: 0 color\n",
       "0      2016-06-08 17:17:00        22咖啡色         75C           0    棕色\n",
       "1      2017-04-07 19:34:25        22咖啡色         80B           0    棕色\n",
       "2      2017-08-03 20:39:18        22咖啡色         80B           0    棕色\n",
       "3      2016-07-06 14:02:08        22咖啡色         75B           0    棕色\n",
       "4      2017-03-18 11:49:55        22咖啡色         80B           0    棕色\n",
       "...                    ...          ...         ...         ...   ...\n",
       "15492  2017-11-03 16:39:13    粉色套装（含内裤）     34A/75A         116    粉色\n",
       "15493  2017-11-07 23:03:10    粉色套装（含内裤）     34B/75B         116    粉色\n",
       "15494  2017-11-14 17:25:37    粉色套装（含内裤）     34A/75A         116    粉色\n",
       "15495  2017-11-11 00:13:32    粉色套装（含内裤）     36C/80C         116    粉色\n",
       "15496  2016-12-20 13:51:34           虾粉     34B=75B         117    粉色\n",
       "\n",
       "[15496 rows x 5 columns]"
      ]
     },
     "execution_count": 134,
     "metadata": {},
     "output_type": "execute_result"
    }
   ],
   "source": [
    "import numpy as np\n",
    "import pandas as pd\n",
    "import matplotlib.pyplot as plt\n",
    "import csv\n",
    "import os\n",
    "import seaborn as sns\n",
    "import re\n",
    "colors = pd.read_csv(r'C:\\Users\\dell\\Desktop\\Python_project\\ZYD366\\bra\\colors.csv')  #导入colors.csv文件\n",
    "bra = pd.read_csv(r'C:\\Users\\dell\\Desktop\\Python_project\\ZYD366\\bra\\bra.csv')#导入bra.csv文件\n",
    "new_name = {'0':'productColor', '1':'color'}\n",
    "colors.rename(columns = new_name, inplace = True)  #重新命名colors文件的列名\n",
    "bra_colors = pd.merge(bra, colors, how='outer')  #合并bra 和 colors两个csv文件\n",
    "bra_color = bra_colors.dropna()   #删除空缺值\n",
    "bra_color"
   ]
  },
  {
   "cell_type": "code",
   "execution_count": 136,
   "metadata": {},
   "outputs": [
    {
     "name": "stdout",
     "output_type": "stream",
     "text": [
      "{'73-77cm': 8164, '78-82cm': 4845, '68-72cm': 845, '83-87cm': 1394, '63-67cm': 152, '88-92cm': 87, '93-97cm': 9}\n",
      "{'棕色': 51, '粉色': 2000, '蓝色': 3423, '黑色': 2142, '肤色': 2169, '红色': 2715, '紫色': 2505, '黄色': 268, '灰色': 126, '绿色': 97}\n"
     ]
    }
   ],
   "source": [
    "d={}\n",
    "for x in bra_color['productSize']: #尺码替换\n",
    "    if '70' in x or '32' in x:\n",
    "        x='68-72cm'\n",
    "    if '75' in x or '34' in x:\n",
    "        x='73-77cm'\n",
    "    if '65' in x or '30' in x:\n",
    "        x='63-67cm'\n",
    "    if '80' in x or '36' in x:\n",
    "        x='78-82cm'        \n",
    "    if '85' in x or '38' in x: \n",
    "        x='83-87cm'        \n",
    "    if '90' in x or '40' in x:\n",
    "        x='88-92cm'\n",
    "    if '95' in x or '42' in x:\n",
    "        x='93-97cm'\n",
    "    if not x in d:                 #构造字典并查看各值重复的次数\n",
    "        d[x]=1\n",
    "    else:\n",
    "        d[x]=d[x]+1\n",
    "print(d)\n",
    "c={}\n",
    "for x in bra_color['color']:       #构造字典并查看各值重复的次数\n",
    "    if not x in c:\n",
    "        c[x]=1    \n",
    "    else:\n",
    "        c[x]=c[x]+1\n",
    "print(c)"
   ]
  },
  {
   "cell_type": "code",
   "execution_count": 137,
   "metadata": {},
   "outputs": [
    {
     "data": {
      "image/png": "[encoded data removed]",
      "text/plain": [
       "<Figure size 432x288 with 1 Axes>"
      ]
     },
     "metadata": {
      "needs_background": "light"
     },
     "output_type": "display_data"
    },
    {
     "data": {
      "image/png": "[encoded data removed]",
      "text/plain": [
       "<Figure size 432x288 with 1 Axes>"
      ]
     },
     "metadata": {
      "needs_background": "light"
     },
     "output_type": "display_data"
    }
   ],
   "source": [
    "import matplotlib\n",
    "import matplotlib.pyplot as plt\n",
    "plt.rcParams['font.sans-serif']=['SimHei']\n",
    "plt.rcParams['axes.unicode_minus'] = False      #添加图形字体\n",
    "x1 = list(d.keys())\n",
    "y1 = list(d.values())\n",
    "x2 = list(c.keys())\n",
    "y2 = list(c.values())\n",
    "plt.bar(x2,y2)                 #构造颜色需求的条形图\n",
    "plt.xlabel('颜色')           \n",
    "plt.ylabel('购买频数')\n",
    "plt.title('颜色需求')\n",
    "plt.show()\n",
    "plt.bar(x1,y1)                #构造尺码需求的条形图\n",
    "plt.xlabel('尺码')         \n",
    "plt.ylabel('购买频数')\n",
    "plt.title('尺码需求')\n",
    "plt.show()"
   ]
  },
  {
   "cell_type": "markdown",
   "metadata": {},
   "source": []
  }
 ],
 "metadata": {
  "kernelspec": {
   "display_name": "Python 3",
   "language": "python",
   "name": "python3"
  },
  "language_info": {
   "codemirror_mode": {
    "name": "ipython",
    "version": 3
   },
   "file_extension": ".py",
   "mimetype": "text/x-python",
   "name": "python",
   "nbconvert_exporter": "python",
   "pygments_lexer": "ipython3",
   "version": "3.8.3"
  }
 },
 "nbformat": 4,
 "nbformat_minor": 4
}
