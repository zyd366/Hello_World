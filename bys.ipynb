{
 "cells": [
  {
   "cell_type": "code",
   "execution_count": 9,
   "metadata": {},
   "outputs": [
    {
     "name": "stdout",
     "output_type": "stream",
     "text": [
      "[[ 0.  0.  5. 13.  9.  1.  0.  0.]\n",
      " [ 0.  0. 13. 15. 10. 15.  5.  0.]\n",
      " [ 0.  3. 15.  2.  0. 11.  8.  0.]\n",
      " [ 0.  4. 12.  0.  0.  8.  8.  0.]\n",
      " [ 0.  5.  8.  0.  0.  9.  8.  0.]\n",
      " [ 0.  4. 11.  0.  1. 12.  7.  0.]\n",
      " [ 0.  2. 14.  5. 10. 12.  0.  0.]\n",
      " [ 0.  0.  6. 13. 10.  0.  0.  0.]]\n",
      "(8, 8)\n"
     ]
    },
    {
     "data": {
      "image/png": "[encoded data removed]",
      "text/plain": [
       "<Figure size 432x288 with 1 Axes>"
      ]
     },
     "metadata": {
      "needs_background": "light"
     },
     "output_type": "display_data"
    },
    {
     "name": "stdout",
     "output_type": "stream",
     "text": [
      "0\n"
     ]
    }
   ],
   "source": [
    "from sklearn.datasets import load_digits\n",
    "from sklearn.naive_bayes import GaussianNB,MultinomialNB,BernoulliNB\n",
    "from sklearn.model_selection import train_test_split\n",
    "from sklearn.metrics import accuracy_score\n",
    "import matplotlib.pyplot as plt\n",
    "import seaborn as sns\n",
    "data = load_digits()    #导入手写数字数据集\n",
    "x = data.data\n",
    "y = data.target\n",
    "print(x.shape,y.shape)\n",
    "print(data.images[0])\n",
    "print(data.images[0].shape)  #查看第一张图\n",
    "plt.imshow(data.images[0])   #第一张图画出来\n",
    "plt.show()\n",
    "print(data.target[0])  #第一张图归类\n",
    "x_train,x_test,y_train,y_test = train_test_split(x,y,test_size=0.2)"
   ]
  },
  {
   "cell_type": "markdown",
   "metadata": {},
   "source": [
    "伯努利朴素贝叶斯\n",
    "特征变量是布尔变量，符合 0/1 分布，在文档分类中特征是单词是否出现。"
   ]
  },
  {
   "cell_type": "code",
   "execution_count": 16,
   "metadata": {},
   "outputs": [
    {
     "name": "stdout",
     "output_type": "stream",
     "text": [
      "BermouliNB准确率为： 0.9222\n",
      "[-2.32867046 -2.35033196 -2.28670626 -2.23987496 -2.33583895 -2.30746826\n",
      " -2.30746826 -2.23336028 -2.357658   -2.28670626]\n"
     ]
    }
   ],
   "source": [
    "#伯努利朴素贝叶斯\n",
    "model_b =MultinomialNB()\n",
    "model_b = model_b.fit(x_train,y_train)   #用训练器数据拟合分类器模型并对训练器数据X进行预测\n",
    "pred_b =model_b.predict(x_test)\n",
    "accuracy_score_b = accuracy_score(y_test,pred_b)\n",
    "print('BermouliNB准确率为： %.4lf'% accuracy_score_b)\n",
    "print(model_b.class_log_prior_)     # 每个类别的先验概率"
   ]
  },
  {
   "cell_type": "markdown",
   "metadata": {},
   "source": [
    "高斯朴素贝叶斯（Gaussian naive Bayes）\n",
    "特征变量是连续变量，假设数据服从高斯分布，且变量无协方差（no covariance，指线性无关）。只要找出每个标签的所有样本点均值和标准差，再定义一个高斯分布，就可以拟合模型。当然，由于分类的最终效果只能依赖于一开始的模型假设，因此高斯朴素贝叶斯经常得不到非常好的结果。"
   ]
  },
  {
   "cell_type": "code",
   "execution_count": 29,
   "metadata": {},
   "outputs": [
    {
     "name": "stdout",
     "output_type": "stream",
     "text": [
      "GaussianNB准确率: 0.8500\n",
      "[0.09464161 0.10160056 0.09951287 0.10160056 0.09881698 0.10438413\n",
      " 0.10020877 0.10368824 0.08977035 0.10577592]\n"
     ]
    }
   ],
   "source": [
    "#高斯朴素贝叶斯\n",
    "model_g = GaussianNB()\n",
    "model_g.fit(x_train,y_train)     #用训练器数据拟合分类器模型并对训练器数据X进行预测\n",
    "pred_g =model_g.predict(x_test)\n",
    "accuracy_score_g = accuracy_score(y_test,pred_g)\n",
    "print('GaussianNB准确率: %.4lf' % accuracy_score_g)\n",
    "print(model_g.class_prior_)"
   ]
  },
  {
   "cell_type": "markdown",
   "metadata": {},
   "source": [
    "多项式朴素贝叶斯（multinomial naive Bayes）\n",
    "特征变量是离散变量，符合多项分布，在文档分类中特征变量体现在一个单词出现的次数，或者是单词的 TF-IDF 值等。\n",
    "它假设特征是由一个简单多项式分布生成的。多项分布可以描述各种类型样本出现次数的概率，因此多项式朴素贝叶斯非常适合用于描述出现次数或者出现次数比例的特征。"
   ]
  },
  {
   "cell_type": "code",
   "execution_count": 28,
   "metadata": {},
   "outputs": [
    {
     "name": "stdout",
     "output_type": "stream",
     "text": [
      "MultionmialNB准确率： 0.8806\n",
      "[-2.357658   -2.28670626 -2.30746826 -2.28670626 -2.31448583 -2.25967759\n",
      " -2.30049959 -2.26636658 -2.41050048 -2.24643237]\n"
     ]
    }
   ],
   "source": [
    "#多项式朴素贝叶斯\n",
    "model_m = BernoulliNB(fit_prior=True)     \n",
    "model_m.fit(x_train,y_train)     #用训练器数据拟合分类器模型并对训练器数据X进行预测\n",
    "pred_m = model_m.predict(x_test)\n",
    "accuracy_score_m = accuracy_score(y_test,pred_m)\n",
    "print('MultionmialNB准确率： %.4lf' % accuracy_score_m)\n",
    "print(model_m.class_log_prior_)"
   ]
  }
 ],
 "metadata": {
  "kernelspec": {
   "display_name": "Python 3",
   "language": "python",
   "name": "python3"
  },
  "language_info": {
   "codemirror_mode": {
    "name": "ipython",
    "version": 3
   },
   "file_extension": ".py",
   "mimetype": "text/x-python",
   "name": "python",
   "nbconvert_exporter": "python",
   "pygments_lexer": "ipython3",
   "version": "3.8.3"
  }
 },
 "nbformat": 4,
 "nbformat_minor": 4
}
